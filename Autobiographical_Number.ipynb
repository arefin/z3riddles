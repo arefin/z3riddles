{
  "nbformat": 4,
  "nbformat_minor": 0,
  "metadata": {
    "colab": {
      "provenance": [],
      "authorship_tag": "ABX9TyM91GXQ2HgaJrgji5+wXOIb",
      "include_colab_link": true
    },
    "kernelspec": {
      "name": "python3",
      "display_name": "Python 3"
    },
    "language_info": {
      "name": "python"
    }
  },
  "cells": [
    {
      "cell_type": "markdown",
      "metadata": {
        "id": "view-in-github",
        "colab_type": "text"
      },
      "source": [
        "<a href=\"https://colab.research.google.com/github/arefin/z3riddles/blob/main/Autobiographical_Number.ipynb\" target=\"_parent\"><img src=\"https://colab.research.google.com/assets/colab-badge.svg\" alt=\"Open In Colab\"/></a>"
      ]
    },
    {
      "cell_type": "markdown",
      "source": [
        "Using Z3 to solve [this riddle](https://youtu.be/lRfdMiURV4s?si=MxnANgWlDl3fV3Ra)."
      ],
      "metadata": {
        "id": "pK5j_PpHjjEg"
      }
    },
    {
      "cell_type": "code",
      "execution_count": 1,
      "metadata": {
        "colab": {
          "base_uri": "https://localhost:8080/"
        },
        "id": "TSfyUICyXjRD",
        "outputId": "72a53a86-438f-4d41-9bb7-719a0e73c414"
      },
      "outputs": [
        {
          "output_type": "stream",
          "name": "stdout",
          "text": [
            "Collecting z3-solver\n",
            "  Downloading z3_solver-4.13.0.0-py2.py3-none-manylinux2014_x86_64.whl (57.3 MB)\n",
            "\u001b[2K     \u001b[90m━━━━━━━━━━━━━━━━━━━━━━━━━━━━━━━━━━━━━━━━\u001b[0m \u001b[32m57.3/57.3 MB\u001b[0m \u001b[31m9.3 MB/s\u001b[0m eta \u001b[36m0:00:00\u001b[0m\n",
            "\u001b[?25hInstalling collected packages: z3-solver\n",
            "Successfully installed z3-solver-4.13.0.0\n"
          ]
        }
      ],
      "source": [
        "!pip install z3-solver"
      ]
    },
    {
      "cell_type": "code",
      "source": [
        "from z3 import *"
      ],
      "metadata": {
        "id": "uwhORww8h6lj"
      },
      "execution_count": 2,
      "outputs": []
    },
    {
      "cell_type": "code",
      "source": [
        "d = [Int(f'd_{i}') for i in range(10)]\n",
        "digit_range = [And(0 <= d[i], d[i] <= 9) for i in range(10)]\n",
        "counts = [\n",
        "    d[i] == Sum([If(d[j] == i, 1, 0) for j in range(10)])\n",
        "    for i in range(10)\n",
        "]"
      ],
      "metadata": {
        "id": "bPy5kVxCh87x"
      },
      "execution_count": 5,
      "outputs": []
    },
    {
      "cell_type": "code",
      "source": [
        "s = Solver()\n",
        "s.add(digit_range)\n",
        "s.add(counts)\n",
        "s.check()"
      ],
      "metadata": {
        "colab": {
          "base_uri": "https://localhost:8080/",
          "height": 34
        },
        "id": "zpEOCX4giodx",
        "outputId": "9d02dc3c-b1cb-4eda-a1be-116b27149aff"
      },
      "execution_count": 6,
      "outputs": [
        {
          "output_type": "execute_result",
          "data": {
            "text/plain": [
              "sat"
            ],
            "text/html": [
              "<b>sat</b>"
            ]
          },
          "metadata": {},
          "execution_count": 6
        }
      ]
    },
    {
      "cell_type": "code",
      "source": [
        "print(' '.join(str(i) for i in range(10)))\n",
        "print(' '.join(str(s.model()[d[i]]) for i in range(10)))"
      ],
      "metadata": {
        "colab": {
          "base_uri": "https://localhost:8080/"
        },
        "id": "DoZuZrsmi4Sw",
        "outputId": "25a6ee98-b4b1-447f-992c-8afaefb22b58"
      },
      "execution_count": 10,
      "outputs": [
        {
          "output_type": "stream",
          "name": "stdout",
          "text": [
            "0 1 2 3 4 5 6 7 8 9\n",
            "6 2 1 0 0 0 1 0 0 0\n"
          ]
        }
      ]
    }
  ]
}