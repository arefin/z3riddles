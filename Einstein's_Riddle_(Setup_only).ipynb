{
  "nbformat": 4,
  "nbformat_minor": 0,
  "metadata": {
    "colab": {
      "provenance": [],
      "authorship_tag": "ABX9TyM3n0vNyfkbBaw5DDfbzctv",
      "include_colab_link": true
    },
    "kernelspec": {
      "name": "python3",
      "display_name": "Python 3"
    },
    "language_info": {
      "name": "python"
    }
  },
  "cells": [
    {
      "cell_type": "markdown",
      "metadata": {
        "id": "view-in-github",
        "colab_type": "text"
      },
      "source": [
        "<a href=\"https://colab.research.google.com/github/arefin/z3riddles/blob/main/Einstein's_Riddle_(Setup_only).ipynb\" target=\"_parent\"><img src=\"https://colab.research.google.com/assets/colab-badge.svg\" alt=\"Open In Colab\"/></a>"
      ]
    },
    {
      "cell_type": "markdown",
      "source": [
        "Code to solve [this riddle](https://youtu.be/1rDVz_Fb6HQ?si=t9HsNU7qiRUYG3Xb) from the TED-Ed YouTube channel.\n",
        "\n",
        "The world's rarest fish has been stolen from the city aquarium. The police have followed the scent to a street with five identical looking houses. But they can't search all the houses at once, and if they pick the wrong one, the theif will know they're on his trail. It's up to you, the city's best detective, to solve the case. When you arrive on the scene, the police tell you what they know.\n",
        "\n",
        "1. Each house's owner is of a different nationality, drinks a different beverage, and smokes a different type of cigar.\n",
        "2. Each house's interior walls are painted a different color.\n",
        "3. Each house contains a different animal, one of which is the fish.\n",
        "\n",
        "* **Nationalities**: German, Dane, Norwegian, Brit, Swede.\n",
        "* **Beverages**: Water, Tea, Milk, Coffee, Root Beer.\n",
        "* **Cigars**: Blends, Pall Mall, Prince, Blue Master, Dunhill.\n",
        "* **Colors**: Blue, Green, Yellow, Red, White.\n",
        "* **Animals**: Horse, Dog, Cat, Bird, Fish.\n",
        "\n",
        "After a few hours of expert sleuthing, you gather some clues.\n",
        "\n",
        "## Clues\n",
        "1. THE BRIT LIVES IN THE HOUSE WITH RED WALLS.\n",
        "2. THE SWEDE HAS A DOG.\n",
        "3. THE DANE DRINKS TEA.\n",
        "4. THE HOUSE WITH GREEN WALLS IS DIRECTLY TO THE LEFT OF THE HOUSE WITH WHITE WALLS.\n",
        "5. THE OWNER OF THE HOUSE WITH GREEN WALLS DRINKS COFFEE.\n",
        "6. THE PERSON WHO SMOKES PALL MALL CIGARS OWNS A BIRD.\n",
        "7. THE OWNER OF THE HOUSE WITH YELLOW WALLS SMOKES DUNHILL CIGARS.\n",
        "8. THE MAN LIVING IN THE CENTER HOUSE DRINKS MILK.\n",
        "9. THE NORWEGIAN LIVES IN THE FIRST HOUSE.\n",
        "10. THE MAN WHO SMOKES BLENDS LIVES NEXT TO THE CAT OWNER.\n",
        "11. THE HORSE'S OWNER LIVES NEXT TO THE MAN WHO SMOKES DUNHILL.\n",
        "12. THE MAN WHO SMOKES BLUE MASTER DRINKS ROOT BEER.\n",
        "13. THE GERMAN SMOKES PRINCE.\n",
        "14. THE NORWEGIAN LIVES NEXT TO THE HOUSE WITH BLUE WALLS.\n",
        "15. THE MAN WHO SMOKES BLENDS HAS A NEXT-DOOR NEIGHBOR WHO DRINKS WATER."
      ],
      "metadata": {
        "id": "cnnqDQu9zpZZ"
      }
    },
    {
      "cell_type": "code",
      "execution_count": null,
      "metadata": {
        "id": "8NNm37RnzVC1"
      },
      "outputs": [],
      "source": [
        "!pip install z3-solver"
      ]
    },
    {
      "cell_type": "code",
      "source": [
        "from z3 import *"
      ],
      "metadata": {
        "id": "ZsP4lyzLz7Nr"
      },
      "execution_count": null,
      "outputs": []
    },
    {
      "cell_type": "code",
      "source": [
        "german = Int('german')\n",
        "dane = Int('dane')\n",
        "norwegian = Int('norwegian')\n",
        "brit = Int('brit')\n",
        "swede = Int ('swede')\n",
        "nationalities = [german, dane, norwegian, brit, swede]\n",
        "\n",
        "water = Int('water')\n",
        "tea = Int('tea')\n",
        "milk = Int('milk')\n",
        "coffee = Int('coffee')\n",
        "root_beer = Int('root_beer')\n",
        "beverages = [water, tea, milk, coffee, root_beer]\n",
        "\n",
        "blends = Int('blends')\n",
        "pall_mall = Int('pall_mall')\n",
        "prince = Int('prince')\n",
        "blue_master = Int('blue_master')\n",
        "dunhill = Int('dunhill')\n",
        "cigars = [blends, pall_mall, prince, blue_master, dunhill]\n",
        "\n",
        "blue = Int('blue')\n",
        "green = Int('green')\n",
        "yellow = Int('yellow')\n",
        "red = Int('red')\n",
        "white = Int('white')\n",
        "colors = [blue, green, yellow, red, white]\n",
        "\n",
        "horse = Int('horse')\n",
        "dog = Int('dog')\n",
        "cat = Int('cat')\n",
        "bird = Int('bird')\n",
        "fish = Int('fish')\n",
        "animals = [horse, dog, cat, bird, fish]\n",
        "\n",
        "groups = [nationalities, beverages, cigars, colors, animals]"
      ],
      "metadata": {
        "id": "DfmxonLf24ND"
      },
      "execution_count": null,
      "outputs": []
    },
    {
      "cell_type": "code",
      "source": [
        "bounds = [And(1 <= var, var <= 5) for group in groups for var in group]\n",
        "distinct_groups = [Distinct(group) for group in groups]"
      ],
      "metadata": {
        "id": "GurY_J1dDm7x"
      },
      "execution_count": null,
      "outputs": []
    },
    {
      "cell_type": "code",
      "source": [
        "clues = [\n",
        "  # 1. The Brit lives in the house with red walls.\n",
        "  # 2. The Swede has a dog.\n",
        "  # 3. The Dane drinks tea.\n",
        "  # 4. The house with green walls is directly to the left of the house with white walls.\n",
        "  # 5. The owner of the house with green walls drinks coffee.\n",
        "  # 6. The person who smokes Pall Mall cigars owns a bird.\n",
        "  # 7. The owner of the house with yellow walls smokes Dunhill cigars.\n",
        "  # 8. The man living in the center house drinks milk.\n",
        "  # 9. The Norwegian lives in the first house.\n",
        "  # 10. The man who smokes Blends lives next to the cat owner.\n",
        "  # 11. The horse's owner lives next to the man who smokes Dunhill.\n",
        "  # 12. The man who smokes Blue Master drinks root beer.\n",
        "  # 13. The German smokes Prince.\n",
        "  # 14. The Norwegian lives next to the house with blue walls.\n",
        "  # 15. The man who smokes Blends has a next-door neighbor who drinks water.\n",
        "]"
      ],
      "metadata": {
        "id": "7WKdzWINDMTZ"
      },
      "execution_count": null,
      "outputs": []
    },
    {
      "cell_type": "code",
      "source": [
        "solve(bounds + distinct_groups + clues)"
      ],
      "metadata": {
        "id": "1AGM6g1SJKhm"
      },
      "execution_count": null,
      "outputs": []
    }
  ]
}