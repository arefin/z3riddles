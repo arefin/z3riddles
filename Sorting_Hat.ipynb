{
  "nbformat": 4,
  "nbformat_minor": 0,
  "metadata": {
    "colab": {
      "provenance": [],
      "authorship_tag": "ABX9TyP21QMuAbzwfVIokfcwkDHv",
      "include_colab_link": true
    },
    "kernelspec": {
      "name": "python3",
      "display_name": "Python 3"
    },
    "language_info": {
      "name": "python"
    }
  },
  "cells": [
    {
      "cell_type": "markdown",
      "metadata": {
        "id": "view-in-github",
        "colab_type": "text"
      },
      "source": [
        "<a href=\"https://colab.research.google.com/github/arefin/z3riddles/blob/main/Sorting_Hat.ipynb\" target=\"_parent\"><img src=\"https://colab.research.google.com/assets/colab-badge.svg\" alt=\"Open In Colab\"/></a>"
      ]
    },
    {
      "cell_type": "markdown",
      "source": [
        "Trying to solve [this riddle](https://youtu.be/auhrB0bSTEo?si=DcMt8FiEg62NRFb1).\n",
        "\n",
        "1. The Magical Macademy had 8 founders, and they established our four houses two by two by two by two.\n",
        "1. The two founders of each house wore different colored hats\n",
        "with non-matching symbols.\n",
        "1. No founder started more than one house.\n",
        "1. Of Funflame and Imaginez, one was a founder of Gianteye and the other of Longmous.\n",
        "1. And of Miraculo and Rimbleby, one established Longmous and the other Meramaid.\n",
        "1. Finally, Septimus didn’t found Vidopnir.\n",
        "\n",
        "**Founders**:\n",
        "* Deepmire: blue + stars\n",
        "* Funflame: red + swirls\n",
        "* Hypnotum: red + stars\n",
        "* Imaginez: yellow + moons\n",
        "* Miraculo: red + moons\n",
        "* Rimbleby: blue + moons\n",
        "* Septimus: yellow + stars\n",
        "* Tremenda: blue + swirls\n",
        "\n",
        "**Houses**: Gianteye, Meramaid, Longmous, Vidopnir"
      ],
      "metadata": {
        "id": "0DrR9GkwJCI9"
      }
    },
    {
      "cell_type": "code",
      "source": [
        "!pip install z3-solver"
      ],
      "metadata": {
        "colab": {
          "base_uri": "https://localhost:8080/"
        },
        "id": "ayRmOj8Mxal3",
        "outputId": "c74f86fa-26cc-4e7c-8ca2-3d1b0f7c1e7e"
      },
      "execution_count": 11,
      "outputs": [
        {
          "output_type": "stream",
          "name": "stdout",
          "text": [
            "Collecting z3-solver\n",
            "  Downloading z3_solver-4.13.0.0-py2.py3-none-manylinux2014_x86_64.whl (57.3 MB)\n",
            "\u001b[2K     \u001b[90m━━━━━━━━━━━━━━━━━━━━━━━━━━━━━━━━━━━━━━━━\u001b[0m \u001b[32m57.3/57.3 MB\u001b[0m \u001b[31m16.2 MB/s\u001b[0m eta \u001b[36m0:00:00\u001b[0m\n",
            "\u001b[?25hInstalling collected packages: z3-solver\n",
            "Successfully installed z3-solver-4.13.0.0\n"
          ]
        }
      ]
    },
    {
      "cell_type": "code",
      "source": [
        "from z3 import *"
      ],
      "metadata": {
        "id": "96OmteBGxddh"
      },
      "execution_count": 12,
      "outputs": []
    },
    {
      "cell_type": "code",
      "source": [
        "from collections import namedtuple\n",
        "Hat = namedtuple('Hat', 'color symbol')"
      ],
      "metadata": {
        "id": "xOG0zjUP1j8-"
      },
      "execution_count": 31,
      "outputs": []
    },
    {
      "cell_type": "code",
      "source": [
        "founders = {\n",
        "    'Deepmire': Hat('blue', 'stars'),\n",
        "    'Funflame': Hat('red', 'swirls'),\n",
        "    'Hypnotum': Hat('red', 'stars'),\n",
        "    'Imaginez': Hat('yellow', 'moons'),\n",
        "    'Miraculo': Hat('red', 'moons'),\n",
        "    'Rimbleby': Hat('blue', 'moons'),\n",
        "    'Septimus': Hat('yellow', 'stars'),\n",
        "    'Tremenda': Hat('blue', 'swirls'),\n",
        "}\n",
        "\n",
        "houses = ['Gianteye', 'Meramaid', 'Longmous', 'Vidopnir']\n",
        "\n",
        "# vars[founder][house] is true iff founder founded house.\n",
        "vars = {\n",
        "    founder: {house: Bool(f'{founder}_{house}') for house in houses}\n",
        "    for founder in founders\n",
        "}\n",
        "vars"
      ],
      "metadata": {
        "colab": {
          "base_uri": "https://localhost:8080/"
        },
        "id": "hItBxzJHwnfx",
        "outputId": "556d10e7-4682-4c29-b90a-f5462d5565b7"
      },
      "execution_count": 43,
      "outputs": [
        {
          "output_type": "execute_result",
          "data": {
            "text/plain": [
              "{'Deepmire': {'Gianteye': Deepmire_Gianteye,\n",
              "  'Meramaid': Deepmire_Meramaid,\n",
              "  'Longmous': Deepmire_Longmous,\n",
              "  'Vidopnir': Deepmire_Vidopnir},\n",
              " 'Funflame': {'Gianteye': Funflame_Gianteye,\n",
              "  'Meramaid': Funflame_Meramaid,\n",
              "  'Longmous': Funflame_Longmous,\n",
              "  'Vidopnir': Funflame_Vidopnir},\n",
              " 'Hypnotum': {'Gianteye': Hypnotum_Gianteye,\n",
              "  'Meramaid': Hypnotum_Meramaid,\n",
              "  'Longmous': Hypnotum_Longmous,\n",
              "  'Vidopnir': Hypnotum_Vidopnir},\n",
              " 'Imaginez': {'Gianteye': Imaginez_Gianteye,\n",
              "  'Meramaid': Imaginez_Meramaid,\n",
              "  'Longmous': Imaginez_Longmous,\n",
              "  'Vidopnir': Imaginez_Vidopnir},\n",
              " 'Miraculo': {'Gianteye': Miraculo_Gianteye,\n",
              "  'Meramaid': Miraculo_Meramaid,\n",
              "  'Longmous': Miraculo_Longmous,\n",
              "  'Vidopnir': Miraculo_Vidopnir},\n",
              " 'Rimbleby': {'Gianteye': Rimbleby_Gianteye,\n",
              "  'Meramaid': Rimbleby_Meramaid,\n",
              "  'Longmous': Rimbleby_Longmous,\n",
              "  'Vidopnir': Rimbleby_Vidopnir},\n",
              " 'Septimus': {'Gianteye': Septimus_Gianteye,\n",
              "  'Meramaid': Septimus_Meramaid,\n",
              "  'Longmous': Septimus_Longmous,\n",
              "  'Vidopnir': Septimus_Vidopnir},\n",
              " 'Tremenda': {'Gianteye': Tremenda_Gianteye,\n",
              "  'Meramaid': Tremenda_Meramaid,\n",
              "  'Longmous': Tremenda_Longmous,\n",
              "  'Vidopnir': Tremenda_Vidopnir}}"
            ]
          },
          "metadata": {},
          "execution_count": 43
        }
      ]
    },
    {
      "cell_type": "code",
      "source": [
        "# Each founder founded at most 1 house.\n",
        "houses_per_founder = [\n",
        "    PbLe([(f_h, 1) for f_h in vars[founder].values()], 1) for founder in vars]\n",
        "houses_per_founder"
      ],
      "metadata": {
        "colab": {
          "base_uri": "https://localhost:8080/"
        },
        "id": "QvVSJmEbxvpe",
        "outputId": "f4f7efbd-cd07-4923-c354-ac612352fd4c"
      },
      "execution_count": 44,
      "outputs": [
        {
          "output_type": "execute_result",
          "data": {
            "text/plain": [
              "[AtMost((Deepmire_Gianteye,\n",
              "         Deepmire_Meramaid,\n",
              "         Deepmire_Longmous,\n",
              "         Deepmire_Vidopnir),\n",
              "        1),\n",
              " AtMost((Funflame_Gianteye,\n",
              "         Funflame_Meramaid,\n",
              "         Funflame_Longmous,\n",
              "         Funflame_Vidopnir),\n",
              "        1),\n",
              " AtMost((Hypnotum_Gianteye,\n",
              "         Hypnotum_Meramaid,\n",
              "         Hypnotum_Longmous,\n",
              "         Hypnotum_Vidopnir),\n",
              "        1),\n",
              " AtMost((Imaginez_Gianteye,\n",
              "         Imaginez_Meramaid,\n",
              "         Imaginez_Longmous,\n",
              "         Imaginez_Vidopnir),\n",
              "        1),\n",
              " AtMost((Miraculo_Gianteye,\n",
              "         Miraculo_Meramaid,\n",
              "         Miraculo_Longmous,\n",
              "         Miraculo_Vidopnir),\n",
              "        1),\n",
              " AtMost((Rimbleby_Gianteye,\n",
              "         Rimbleby_Meramaid,\n",
              "         Rimbleby_Longmous,\n",
              "         Rimbleby_Vidopnir),\n",
              "        1),\n",
              " AtMost((Septimus_Gianteye,\n",
              "         Septimus_Meramaid,\n",
              "         Septimus_Longmous,\n",
              "         Septimus_Vidopnir),\n",
              "        1),\n",
              " AtMost((Tremenda_Gianteye,\n",
              "         Tremenda_Meramaid,\n",
              "         Tremenda_Longmous,\n",
              "         Tremenda_Vidopnir),\n",
              "        1)]"
            ]
          },
          "metadata": {},
          "execution_count": 44
        }
      ]
    },
    {
      "cell_type": "code",
      "source": [
        "# Each house had exactly two founders.\n",
        "founders_per_house = [\n",
        "    PbEq([(vars[founder][house], 1) for founder in founders], 2)\n",
        "    for house in houses]\n",
        "founders_per_house"
      ],
      "metadata": {
        "colab": {
          "base_uri": "https://localhost:8080/"
        },
        "id": "jfRbr02w0yjY",
        "outputId": "9865cd12-3802-451d-b0de-4710fcecdbb4"
      },
      "execution_count": 45,
      "outputs": [
        {
          "output_type": "execute_result",
          "data": {
            "text/plain": [
              "[PbEq(((Deepmire_Gianteye, 1),\n",
              "       (Funflame_Gianteye, 1),\n",
              "       (Hypnotum_Gianteye, 1),\n",
              "       (Imaginez_Gianteye, 1),\n",
              "       (Miraculo_Gianteye, 1),\n",
              "       (Rimbleby_Gianteye, 1),\n",
              "       (Septimus_Gianteye, 1),\n",
              "       (Tremenda_Gianteye, 1)),\n",
              "      2),\n",
              " PbEq(((Deepmire_Meramaid, 1),\n",
              "       (Funflame_Meramaid, 1),\n",
              "       (Hypnotum_Meramaid, 1),\n",
              "       (Imaginez_Meramaid, 1),\n",
              "       (Miraculo_Meramaid, 1),\n",
              "       (Rimbleby_Meramaid, 1),\n",
              "       (Septimus_Meramaid, 1),\n",
              "       (Tremenda_Meramaid, 1)),\n",
              "      2),\n",
              " PbEq(((Deepmire_Longmous, 1),\n",
              "       (Funflame_Longmous, 1),\n",
              "       (Hypnotum_Longmous, 1),\n",
              "       (Imaginez_Longmous, 1),\n",
              "       (Miraculo_Longmous, 1),\n",
              "       (Rimbleby_Longmous, 1),\n",
              "       (Septimus_Longmous, 1),\n",
              "       (Tremenda_Longmous, 1)),\n",
              "      2),\n",
              " PbEq(((Deepmire_Vidopnir, 1),\n",
              "       (Funflame_Vidopnir, 1),\n",
              "       (Hypnotum_Vidopnir, 1),\n",
              "       (Imaginez_Vidopnir, 1),\n",
              "       (Miraculo_Vidopnir, 1),\n",
              "       (Rimbleby_Vidopnir, 1),\n",
              "       (Septimus_Vidopnir, 1),\n",
              "       (Tremenda_Vidopnir, 1)),\n",
              "      2)]"
            ]
          },
          "metadata": {},
          "execution_count": 45
        }
      ]
    },
    {
      "cell_type": "code",
      "source": [
        "# The founders of each house had different colored hats and symbols.\n",
        "from itertools import combinations\n",
        "from pprint import pprint\n",
        "\n",
        "founder_hat_colors = []\n",
        "founder_hat_symbols = []\n",
        "for f1, f2 in combinations(founders, 2):\n",
        "  if founders[f1].color == founders[f2].color:\n",
        "    founder_hat_colors.extend(\n",
        "        [Not(And(vars[f1][h], vars[f2][h])) for h in houses])\n",
        "  if founders[f1].symbol == founders[f2].symbol:\n",
        "    founder_hat_symbols.extend(\n",
        "        [Not(And(vars[f1][h], vars[f2][h])) for h in houses])\n",
        "\n",
        "founder_hat_colors"
      ],
      "metadata": {
        "colab": {
          "base_uri": "https://localhost:8080/"
        },
        "id": "uNjTR_ez2WZa",
        "outputId": "1fb13d0f-2ae5-402c-f3a5-42c021efe9bb"
      },
      "execution_count": 50,
      "outputs": [
        {
          "output_type": "execute_result",
          "data": {
            "text/plain": [
              "[Not(And(Deepmire_Gianteye, Rimbleby_Gianteye)),\n",
              " Not(And(Deepmire_Meramaid, Rimbleby_Meramaid)),\n",
              " Not(And(Deepmire_Longmous, Rimbleby_Longmous)),\n",
              " Not(And(Deepmire_Vidopnir, Rimbleby_Vidopnir)),\n",
              " Not(And(Deepmire_Gianteye, Tremenda_Gianteye)),\n",
              " Not(And(Deepmire_Meramaid, Tremenda_Meramaid)),\n",
              " Not(And(Deepmire_Longmous, Tremenda_Longmous)),\n",
              " Not(And(Deepmire_Vidopnir, Tremenda_Vidopnir)),\n",
              " Not(And(Funflame_Gianteye, Hypnotum_Gianteye)),\n",
              " Not(And(Funflame_Meramaid, Hypnotum_Meramaid)),\n",
              " Not(And(Funflame_Longmous, Hypnotum_Longmous)),\n",
              " Not(And(Funflame_Vidopnir, Hypnotum_Vidopnir)),\n",
              " Not(And(Funflame_Gianteye, Miraculo_Gianteye)),\n",
              " Not(And(Funflame_Meramaid, Miraculo_Meramaid)),\n",
              " Not(And(Funflame_Longmous, Miraculo_Longmous)),\n",
              " Not(And(Funflame_Vidopnir, Miraculo_Vidopnir)),\n",
              " Not(And(Hypnotum_Gianteye, Miraculo_Gianteye)),\n",
              " Not(And(Hypnotum_Meramaid, Miraculo_Meramaid)),\n",
              " Not(And(Hypnotum_Longmous, Miraculo_Longmous)),\n",
              " Not(And(Hypnotum_Vidopnir, Miraculo_Vidopnir)),\n",
              " Not(And(Imaginez_Gianteye, Septimus_Gianteye)),\n",
              " Not(And(Imaginez_Meramaid, Septimus_Meramaid)),\n",
              " Not(And(Imaginez_Longmous, Septimus_Longmous)),\n",
              " Not(And(Imaginez_Vidopnir, Septimus_Vidopnir)),\n",
              " Not(And(Rimbleby_Gianteye, Tremenda_Gianteye)),\n",
              " Not(And(Rimbleby_Meramaid, Tremenda_Meramaid)),\n",
              " Not(And(Rimbleby_Longmous, Tremenda_Longmous)),\n",
              " Not(And(Rimbleby_Vidopnir, Tremenda_Vidopnir))]"
            ]
          },
          "metadata": {},
          "execution_count": 50
        }
      ]
    },
    {
      "cell_type": "code",
      "source": [
        "founder_hat_symbols"
      ],
      "metadata": {
        "colab": {
          "base_uri": "https://localhost:8080/"
        },
        "id": "CSgSmL5I8tZj",
        "outputId": "7031c72c-ad52-4a22-e2ee-4cc730bf2afa"
      },
      "execution_count": 51,
      "outputs": [
        {
          "output_type": "execute_result",
          "data": {
            "text/plain": [
              "[Not(And(Deepmire_Gianteye, Hypnotum_Gianteye)),\n",
              " Not(And(Deepmire_Meramaid, Hypnotum_Meramaid)),\n",
              " Not(And(Deepmire_Longmous, Hypnotum_Longmous)),\n",
              " Not(And(Deepmire_Vidopnir, Hypnotum_Vidopnir)),\n",
              " Not(And(Deepmire_Gianteye, Septimus_Gianteye)),\n",
              " Not(And(Deepmire_Meramaid, Septimus_Meramaid)),\n",
              " Not(And(Deepmire_Longmous, Septimus_Longmous)),\n",
              " Not(And(Deepmire_Vidopnir, Septimus_Vidopnir)),\n",
              " Not(And(Funflame_Gianteye, Tremenda_Gianteye)),\n",
              " Not(And(Funflame_Meramaid, Tremenda_Meramaid)),\n",
              " Not(And(Funflame_Longmous, Tremenda_Longmous)),\n",
              " Not(And(Funflame_Vidopnir, Tremenda_Vidopnir)),\n",
              " Not(And(Hypnotum_Gianteye, Septimus_Gianteye)),\n",
              " Not(And(Hypnotum_Meramaid, Septimus_Meramaid)),\n",
              " Not(And(Hypnotum_Longmous, Septimus_Longmous)),\n",
              " Not(And(Hypnotum_Vidopnir, Septimus_Vidopnir)),\n",
              " Not(And(Imaginez_Gianteye, Miraculo_Gianteye)),\n",
              " Not(And(Imaginez_Meramaid, Miraculo_Meramaid)),\n",
              " Not(And(Imaginez_Longmous, Miraculo_Longmous)),\n",
              " Not(And(Imaginez_Vidopnir, Miraculo_Vidopnir)),\n",
              " Not(And(Imaginez_Gianteye, Rimbleby_Gianteye)),\n",
              " Not(And(Imaginez_Meramaid, Rimbleby_Meramaid)),\n",
              " Not(And(Imaginez_Longmous, Rimbleby_Longmous)),\n",
              " Not(And(Imaginez_Vidopnir, Rimbleby_Vidopnir)),\n",
              " Not(And(Miraculo_Gianteye, Rimbleby_Gianteye)),\n",
              " Not(And(Miraculo_Meramaid, Rimbleby_Meramaid)),\n",
              " Not(And(Miraculo_Longmous, Rimbleby_Longmous)),\n",
              " Not(And(Miraculo_Vidopnir, Rimbleby_Vidopnir))]"
            ]
          },
          "metadata": {},
          "execution_count": 51
        }
      ]
    },
    {
      "cell_type": "code",
      "source": [
        "other = [\n",
        "    # Of Funflame and Imaginez, one was a founder of Gianteye and the other of\n",
        "    # Longmous.\n",
        "    Or(\n",
        "      And(vars['Funflame']['Gianteye'], vars['Imaginez']['Longmous']),\n",
        "      And(vars['Funflame']['Longmous'], vars['Imaginez']['Gianteye'])),\n",
        "    # And of Miraculo and Rimbleby, one established Longmous and the other\n",
        "    # Meramaid.\n",
        "    Or(\n",
        "      And(vars['Miraculo']['Longmous'], vars['Rimbleby']['Meramaid']),\n",
        "      And(vars['Miraculo']['Meramaid'], vars['Rimbleby']['Longmous'])),\n",
        "    # Finally, Septimus didn’t found Vidopnir.\n",
        "    Not(vars['Septimus']['Vidopnir'])\n",
        "]"
      ],
      "metadata": {
        "id": "YldQDmOS8-9J"
      },
      "execution_count": 52,
      "outputs": []
    },
    {
      "cell_type": "code",
      "source": [
        "s = Solver()\n",
        "s.add(houses_per_founder)\n",
        "s.add(founders_per_house)\n",
        "s.add(founder_hat_colors)\n",
        "s.add(founder_hat_symbols)\n",
        "s.add(other)\n",
        "s.check()"
      ],
      "metadata": {
        "colab": {
          "base_uri": "https://localhost:8080/",
          "height": 34
        },
        "id": "mKryUQsY-BQm",
        "outputId": "e514e00f-3069-437a-d185-9648fc9d2df0"
      },
      "execution_count": 59,
      "outputs": [
        {
          "output_type": "execute_result",
          "data": {
            "text/plain": [
              "sat"
            ],
            "text/html": [
              "<b>sat</b>"
            ]
          },
          "metadata": {},
          "execution_count": 59
        }
      ]
    },
    {
      "cell_type": "code",
      "source": [
        "answer = {}\n",
        "for house in houses:\n",
        "  for founder in founders:\n",
        "    if s.model()[vars[founder][house]]:\n",
        "      answer[founder] = house\n",
        "      print(f'{founder} ({founders[founder]}) founded {house}')"
      ],
      "metadata": {
        "colab": {
          "base_uri": "https://localhost:8080/"
        },
        "id": "cSWzijY1-G9E",
        "outputId": "af688925-5518-4e53-f245-f3f9216e1cc1"
      },
      "execution_count": 61,
      "outputs": [
        {
          "output_type": "stream",
          "name": "stdout",
          "text": [
            "Deepmire (Hat(color='blue', symbol='stars')) founded Gianteye\n",
            "Imaginez (Hat(color='yellow', symbol='moons')) founded Gianteye\n",
            "Miraculo (Hat(color='red', symbol='moons')) founded Meramaid\n",
            "Septimus (Hat(color='yellow', symbol='stars')) founded Meramaid\n",
            "Funflame (Hat(color='red', symbol='swirls')) founded Longmous\n",
            "Rimbleby (Hat(color='blue', symbol='moons')) founded Longmous\n",
            "Hypnotum (Hat(color='red', symbol='stars')) founded Vidopnir\n",
            "Tremenda (Hat(color='blue', symbol='swirls')) founded Vidopnir\n"
          ]
        }
      ]
    },
    {
      "cell_type": "code",
      "source": [
        "# Using the hints given later in the video we can find the name of the\n",
        "# secret fifth house.\n",
        "for i in range(8):\n",
        "  for f in founders:\n",
        "    if 'm' == f[i].lower():\n",
        "      print(answer[f][i].upper(), end='')"
      ],
      "metadata": {
        "colab": {
          "base_uri": "https://localhost:8080/"
        },
        "id": "lUSTG88RAMwP",
        "outputId": "c7bf676c-3cbf-45b3-ce59-e35fdabe4271"
      },
      "execution_count": 68,
      "outputs": [
        {
          "output_type": "stream",
          "name": "stdout",
          "text": [
            "MINOTAUR"
          ]
        }
      ]
    }
  ]
}