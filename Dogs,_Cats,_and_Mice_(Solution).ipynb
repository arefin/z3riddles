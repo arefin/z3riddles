{
  "nbformat": 4,
  "nbformat_minor": 0,
  "metadata": {
    "colab": {
      "provenance": [],
      "authorship_tag": "ABX9TyPG84Oy+/pHRxo3jwZluYjR",
      "include_colab_link": true
    },
    "kernelspec": {
      "name": "python3",
      "display_name": "Python 3"
    },
    "language_info": {
      "name": "python"
    }
  },
  "cells": [
    {
      "cell_type": "markdown",
      "metadata": {
        "id": "view-in-github",
        "colab_type": "text"
      },
      "source": [
        "<a href=\"https://colab.research.google.com/github/arefin/z3riddles/blob/main/Dogs%2C_Cats%2C_and_Mice_(Solution).ipynb\" target=\"_parent\"><img src=\"https://colab.research.google.com/assets/colab-badge.svg\" alt=\"Open In Colab\"/></a>"
      ]
    },
    {
      "cell_type": "markdown",
      "source": [
        "From https://ericpony.github.io/z3py-tutorial/guide-examples.htm:\n",
        "\n",
        "Consider the following puzzle. Spend exactly 100 dollars and buy exactly 100 animals. Dogs cost 15 dollars, cats cost 1 dollar, and mice cost 25 cents each. You have to buy at least one of each. How many of each should you buy?\n"
      ],
      "metadata": {
        "id": "Q_mnivebVgAE"
      }
    },
    {
      "cell_type": "code",
      "execution_count": 1,
      "metadata": {
        "colab": {
          "base_uri": "https://localhost:8080/"
        },
        "id": "wiEDTyOoVJ8r",
        "outputId": "59b151ba-585b-495c-f08f-5514878593ca"
      },
      "outputs": [
        {
          "output_type": "stream",
          "name": "stdout",
          "text": [
            "Collecting z3-solver\n",
            "  Downloading z3_solver-4.13.0.0-py2.py3-none-manylinux2014_x86_64.whl (57.3 MB)\n",
            "\u001b[2K     \u001b[90m━━━━━━━━━━━━━━━━━━━━━━━━━━━━━━━━━━━━━━━━\u001b[0m \u001b[32m57.3/57.3 MB\u001b[0m \u001b[31m9.6 MB/s\u001b[0m eta \u001b[36m0:00:00\u001b[0m\n",
            "\u001b[?25hInstalling collected packages: z3-solver\n",
            "Successfully installed z3-solver-4.13.0.0\n"
          ]
        }
      ],
      "source": [
        "!pip install z3-solver"
      ]
    },
    {
      "cell_type": "code",
      "source": [
        "from z3 import *"
      ],
      "metadata": {
        "id": "zPFbgpnVWCqz"
      },
      "execution_count": 2,
      "outputs": []
    },
    {
      "cell_type": "code",
      "source": [
        "dogs, cats, mice = Ints('dogs cats mice')\n",
        "solve(\n",
        "    dogs > 0, cats > 0, mice > 0,\n",
        "    dogs + cats + mice == 100,\n",
        "    dogs * 15 + cats * 1 + mice * 0.25 == 100)"
      ],
      "metadata": {
        "colab": {
          "base_uri": "https://localhost:8080/"
        },
        "id": "9OnIA5OtWGCt",
        "outputId": "13f812fe-db89-4b8c-97c4-dadf4ea6dbb1"
      },
      "execution_count": 3,
      "outputs": [
        {
          "output_type": "stream",
          "name": "stdout",
          "text": [
            "[cats = 41, mice = 56, dogs = 3]\n"
          ]
        }
      ]
    },
    {
      "cell_type": "markdown",
      "source": [
        "Ok, but what if we want to check that the solution is correct?"
      ],
      "metadata": {
        "id": "Q8T4HmQjXrVB"
      }
    },
    {
      "cell_type": "code",
      "source": [
        "s = Solver()\n",
        "s.add(\n",
        "    dogs > 0, cats > 0, mice > 0,\n",
        "    dogs + cats + mice == 100,\n",
        "    dogs * 15 + cats * 1 + mice * 0.25 == 100)\n",
        "s.check()"
      ],
      "metadata": {
        "colab": {
          "base_uri": "https://localhost:8080/",
          "height": 34
        },
        "id": "tbCiQ2SNW858",
        "outputId": "b411120f-a9dc-420f-b2c4-1fef775b0d5d"
      },
      "execution_count": 7,
      "outputs": [
        {
          "output_type": "execute_result",
          "data": {
            "text/plain": [
              "sat"
            ],
            "text/html": [
              "<b>sat</b>"
            ]
          },
          "metadata": {},
          "execution_count": 7
        }
      ]
    },
    {
      "cell_type": "code",
      "source": [
        "d = s.model()[dogs]\n",
        "c = s.model()[cats]\n",
        "m = s.model()[mice]\n",
        "n = d + c + m\n",
        "n"
      ],
      "metadata": {
        "colab": {
          "base_uri": "https://localhost:8080/",
          "height": 34
        },
        "id": "HjLWlRJKX43X",
        "outputId": "1ff906f6-4cb6-4e0d-c681-a28a4e695383"
      },
      "execution_count": 20,
      "outputs": [
        {
          "output_type": "execute_result",
          "data": {
            "text/plain": [
              "3 + 41 + 56"
            ],
            "text/html": [
              "3 + 41 + 56"
            ]
          },
          "metadata": {},
          "execution_count": 20
        }
      ]
    },
    {
      "cell_type": "code",
      "source": [
        "simplify(n)"
      ],
      "metadata": {
        "colab": {
          "base_uri": "https://localhost:8080/",
          "height": 34
        },
        "id": "lhrhEVPcYQq4",
        "outputId": "9ece9926-cda4-4a4c-ea3b-45035da98200"
      },
      "execution_count": 21,
      "outputs": [
        {
          "output_type": "execute_result",
          "data": {
            "text/plain": [
              "100"
            ],
            "text/html": [
              "100"
            ]
          },
          "metadata": {},
          "execution_count": 21
        }
      ]
    },
    {
      "cell_type": "code",
      "source": [
        "cost = 15*d + 1*c + 0.25*m\n",
        "cost"
      ],
      "metadata": {
        "colab": {
          "base_uri": "https://localhost:8080/",
          "height": 34
        },
        "id": "ml2gL2PcXHrf",
        "outputId": "313d88b3-6256-4ff8-8f48-5d392b974b2d"
      },
      "execution_count": 17,
      "outputs": [
        {
          "output_type": "execute_result",
          "data": {
            "text/plain": [
              "ToReal(15*3 + 1*41) + 1/4*ToReal(56)"
            ],
            "text/html": [
              "ToReal(15&middot;3 + 1&middot;41) + 1/4&middot;ToReal(56)"
            ]
          },
          "metadata": {},
          "execution_count": 17
        }
      ]
    },
    {
      "cell_type": "code",
      "source": [
        "simplify(cost)"
      ],
      "metadata": {
        "colab": {
          "base_uri": "https://localhost:8080/",
          "height": 34
        },
        "id": "VX10RX0xXwyg",
        "outputId": "2ae2a407-bfb0-44a5-b39a-68686347f920"
      },
      "execution_count": 18,
      "outputs": [
        {
          "output_type": "execute_result",
          "data": {
            "text/plain": [
              "100"
            ],
            "text/html": [
              "100"
            ]
          },
          "metadata": {},
          "execution_count": 18
        }
      ]
    }
  ]
}