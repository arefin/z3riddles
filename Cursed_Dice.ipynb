{
  "nbformat": 4,
  "nbformat_minor": 0,
  "metadata": {
    "colab": {
      "provenance": [],
      "authorship_tag": "ABX9TyMI2lA21tL+pFXH8yBh6DMO",
      "include_colab_link": true
    },
    "kernelspec": {
      "name": "python3",
      "display_name": "Python 3"
    },
    "language_info": {
      "name": "python"
    }
  },
  "cells": [
    {
      "cell_type": "markdown",
      "metadata": {
        "id": "view-in-github",
        "colab_type": "text"
      },
      "source": [
        "<a href=\"https://colab.research.google.com/github/arefin/z3riddles/blob/main/Cursed_Dice.ipynb\" target=\"_parent\"><img src=\"https://colab.research.google.com/assets/colab-badge.svg\" alt=\"Open In Colab\"/></a>"
      ]
    },
    {
      "cell_type": "markdown",
      "source": [
        "Solving [this problem](https://youtu.be/urOkfsIRFlw?si=2X5Uhk5J0ni_STjW).\n",
        "\n",
        "Note this problem is really about [Sicherman Dice](https://en.wikipedia.org/wiki/Sicherman_dice) in disguise."
      ],
      "metadata": {
        "id": "xwMDxeO_I-RW"
      }
    },
    {
      "cell_type": "code",
      "execution_count": 1,
      "metadata": {
        "colab": {
          "base_uri": "https://localhost:8080/"
        },
        "id": "DuWiqR6xI8ux",
        "outputId": "2d89bfb2-079e-4ea3-de18-a51acc40de82"
      },
      "outputs": [
        {
          "output_type": "stream",
          "name": "stdout",
          "text": [
            "Collecting z3-solver\n",
            "  Downloading z3_solver-4.13.0.0-py2.py3-none-manylinux2014_x86_64.whl (57.3 MB)\n",
            "\u001b[2K     \u001b[90m━━━━━━━━━━━━━━━━━━━━━━━━━━━━━━━━━━━━━━━━\u001b[0m \u001b[32m57.3/57.3 MB\u001b[0m \u001b[31m8.5 MB/s\u001b[0m eta \u001b[36m0:00:00\u001b[0m\n",
            "\u001b[?25hInstalling collected packages: z3-solver\n",
            "Successfully installed z3-solver-4.13.0.0\n"
          ]
        }
      ],
      "source": [
        "!pip install z3-solver"
      ]
    },
    {
      "cell_type": "code",
      "source": [
        "from z3 import *"
      ],
      "metadata": {
        "id": "NXjBzI4LJW0V"
      },
      "execution_count": 2,
      "outputs": []
    },
    {
      "cell_type": "code",
      "source": [
        "d1 = [Int(f'd1_{i}') for i in range(6)]\n",
        "d2 = [Int(f'd2_{i}') for i in range(6)]\n",
        "s = Solver()\n",
        "for i in range(6):\n",
        "  s.add(0 < d1[i])\n",
        "  s.add(0 < d2[i])\n",
        "  s.add(d1[i] <= 4)"
      ],
      "metadata": {
        "id": "h3_jQ1aDJeej"
      },
      "execution_count": 3,
      "outputs": []
    },
    {
      "cell_type": "code",
      "source": [
        "# Compute the number of ways to roll each sum using standard dice.\n",
        "from collections import defaultdict\n",
        "ways = defaultdict(int)\n",
        "for i in range(1, 7):\n",
        "  for j in range(1, 7):\n",
        "    ways[i + j] += 1\n",
        "ways"
      ],
      "metadata": {
        "colab": {
          "base_uri": "https://localhost:8080/"
        },
        "id": "rMhVJCNwLazA",
        "outputId": "3b29edb3-1ff4-4596-dc80-203ef7f3970e"
      },
      "execution_count": 5,
      "outputs": [
        {
          "output_type": "execute_result",
          "data": {
            "text/plain": [
              "defaultdict(int,\n",
              "            {2: 1,\n",
              "             3: 2,\n",
              "             4: 3,\n",
              "             5: 4,\n",
              "             6: 5,\n",
              "             7: 6,\n",
              "             8: 5,\n",
              "             9: 4,\n",
              "             10: 3,\n",
              "             11: 2,\n",
              "             12: 1})"
            ]
          },
          "metadata": {},
          "execution_count": 5
        }
      ]
    },
    {
      "cell_type": "code",
      "source": [
        "# This is inspired by http://www.hakank.org/z3/sicherman_dice.py.\n",
        "for k in ways:\n",
        "  s.add(\n",
        "      ways[k] == Sum(\n",
        "        [If(d1[i] + d2[j] == k, 1, 0) for i in range(6) for j in range(6)]))"
      ],
      "metadata": {
        "id": "r10S3v-rL9CR"
      },
      "execution_count": 7,
      "outputs": []
    },
    {
      "cell_type": "code",
      "source": [
        "# Break symmetry.\n",
        "for i in range(5):\n",
        "  s.add(d1[i] <= d1[i + 1])\n",
        "  s.add(d2[i] <= d2[i + 1])"
      ],
      "metadata": {
        "id": "lSCvC3F2Mhhn"
      },
      "execution_count": 8,
      "outputs": []
    },
    {
      "cell_type": "code",
      "source": [
        "s.check()"
      ],
      "metadata": {
        "colab": {
          "base_uri": "https://localhost:8080/",
          "height": 34
        },
        "id": "pB1V5Y1-NbIq",
        "outputId": "b649e30a-d74d-4469-a349-738a9a65cd95"
      },
      "execution_count": 12,
      "outputs": [
        {
          "output_type": "execute_result",
          "data": {
            "text/plain": [
              "sat"
            ],
            "text/html": [
              "<b>sat</b>"
            ]
          },
          "metadata": {},
          "execution_count": 12
        }
      ]
    },
    {
      "cell_type": "code",
      "source": [
        "m = s.model()\n",
        "d1_values = [m.evaluate(d1[i]) for i in range(6)]\n",
        "d2_values = [m.evaluate(d2[i]) for i in range(6)]\n",
        "print(d1_values, d2_values)"
      ],
      "metadata": {
        "colab": {
          "base_uri": "https://localhost:8080/"
        },
        "id": "3e3fiC6XMxL8",
        "outputId": "2f7df5b4-dc8c-4ffb-bd7e-b9a6a16fa538"
      },
      "execution_count": 13,
      "outputs": [
        {
          "output_type": "stream",
          "name": "stdout",
          "text": [
            "[1, 2, 2, 3, 3, 4] [1, 3, 4, 5, 6, 8]\n"
          ]
        }
      ]
    },
    {
      "cell_type": "code",
      "source": [
        "s.add(Or(\n",
        "    [d1[i] != m[d1[i]] for i in range(6)]\n",
        "    + [d2[i] != m[d2[i]] for i in range(6)]))\n",
        "s.check()"
      ],
      "metadata": {
        "colab": {
          "base_uri": "https://localhost:8080/",
          "height": 34
        },
        "id": "wYEguDCVNejI",
        "outputId": "1e380b22-9d32-42de-9dd8-ae1bb03540a2"
      },
      "execution_count": 15,
      "outputs": [
        {
          "output_type": "execute_result",
          "data": {
            "text/plain": [
              "unsat"
            ],
            "text/html": [
              "<b>unsat</b>"
            ]
          },
          "metadata": {},
          "execution_count": 15
        }
      ]
    }
  ]
}