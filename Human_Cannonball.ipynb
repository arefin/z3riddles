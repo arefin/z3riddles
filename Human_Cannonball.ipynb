{
  "nbformat": 4,
  "nbformat_minor": 0,
  "metadata": {
    "colab": {
      "provenance": [],
      "authorship_tag": "ABX9TyMahlV/KroxFFJw5taFJfaE",
      "include_colab_link": true
    },
    "kernelspec": {
      "name": "python3",
      "display_name": "Python 3"
    },
    "language_info": {
      "name": "python"
    }
  },
  "cells": [
    {
      "cell_type": "markdown",
      "metadata": {
        "id": "view-in-github",
        "colab_type": "text"
      },
      "source": [
        "<a href=\"https://colab.research.google.com/github/arefin/z3riddles/blob/main/Human_Cannonball.ipynb\" target=\"_parent\"><img src=\"https://colab.research.google.com/assets/colab-badge.svg\" alt=\"Open In Colab\"/></a>"
      ]
    },
    {
      "cell_type": "markdown",
      "source": [
        "Solving this riddle: https://youtu.be/o4MpBV4F3qs?si=qW4WMs5XsLd1MVJ8\n",
        "\n",
        "The cannon's electromagnet is powered by energy cells located in 16 chambers on two levels. Each level is a hollowed out square, with three chambers to a side. The acceleration is survivable if there are twice as many energy cells in the upper level as in the lower level. Every chamber has 1 to 3 energy cells and each side of the cannon, made of 6 chambers, has 11 energy cells.\n",
        "\n",
        "Your mentor designed the cannon to use a certain number of energy cells, but when the shipment arrived, it was 3 short. So he made all of those conditions work with this reduced number and it fired perfectly. That's the amount you'll need.\n",
        "\n",
        "Upper:\n",
        "```\n",
        " 1  2  3\n",
        " 4  X  5\n",
        " 6  7  8\n",
        "```\n",
        "\n",
        "Lower:\n",
        "```\n",
        " 9 10 11\n",
        "12  X 13\n",
        "14 15 16\n",
        "```"
      ],
      "metadata": {
        "id": "o1GsyNeRY9P3"
      }
    },
    {
      "cell_type": "code",
      "execution_count": 1,
      "metadata": {
        "colab": {
          "base_uri": "https://localhost:8080/"
        },
        "id": "zA9PaIBmY6Wk",
        "outputId": "edc38444-d1da-4964-d296-3f0aa525d7fc"
      },
      "outputs": [
        {
          "output_type": "stream",
          "name": "stdout",
          "text": [
            "Collecting z3-solver\n",
            "  Downloading z3_solver-4.13.0.0-py2.py3-none-manylinux2014_x86_64.whl (57.3 MB)\n",
            "\u001b[2K     \u001b[90m━━━━━━━━━━━━━━━━━━━━━━━━━━━━━━━━━━━━━━━━\u001b[0m \u001b[32m57.3/57.3 MB\u001b[0m \u001b[31m11.6 MB/s\u001b[0m eta \u001b[36m0:00:00\u001b[0m\n",
            "\u001b[?25hInstalling collected packages: z3-solver\n",
            "Successfully installed z3-solver-4.13.0.0\n"
          ]
        }
      ],
      "source": [
        "!pip install z3-solver"
      ]
    },
    {
      "cell_type": "code",
      "source": [
        "from z3 import *"
      ],
      "metadata": {
        "id": "-4lhvgVHbEIn"
      },
      "execution_count": 2,
      "outputs": []
    },
    {
      "cell_type": "code",
      "source": [
        "x1 = Int('x1')\n",
        "x2 = Int('x2')\n",
        "x3 = Int('x3')\n",
        "x4 = Int('x4')\n",
        "x5 = Int('x5')\n",
        "x6 = Int('x6')\n",
        "x7 = Int('x7')\n",
        "x8 = Int('x8')\n",
        "x9 = Int('x9')\n",
        "x10 = Int('x10')\n",
        "x11 = Int('x11')\n",
        "x12 = Int('x12')\n",
        "x13 = Int('x13')\n",
        "x14 = Int('x14')\n",
        "x15 = Int('x15')\n",
        "x16 = Int('x16')\n",
        "\n",
        "upper = [x1, x2, x3, x4, x5, x6, x7, x8]\n",
        "lower = [x9, x10, x11, x12, x13, x14, x15, x16]\n",
        "all = upper + lower\n",
        "\n",
        "north = [x1, x2, x3, x9, x10, x11]\n",
        "east = [x3, x5, x8, x11, x13, x16]\n",
        "south = [x6, x7, x8, x14, x15, x16]\n",
        "west = [x1, x4, x6, x9, x12, x14]"
      ],
      "metadata": {
        "id": "gdWeNzJQbGHr"
      },
      "execution_count": 3,
      "outputs": []
    },
    {
      "cell_type": "code",
      "source": [
        "bounds = [And(1 <= x, x <= 3) for x in all]\n",
        "ul = sum(upper) == 2 * sum(lower)\n",
        "sides = [sum(side) == 11 for side in [north, east, west, south]]\n",
        "s = Solver()\n",
        "s.add(bounds + [ul] + sides)"
      ],
      "metadata": {
        "colab": {
          "base_uri": "https://localhost:8080/",
          "height": 34
        },
        "id": "mbqrItkHcfrj",
        "outputId": "1499055e-0136-4d23-840c-dd5b897d69c3"
      },
      "execution_count": 5,
      "outputs": [
        {
          "output_type": "execute_result",
          "data": {
            "text/plain": [
              "sat"
            ],
            "text/html": [
              "<b>sat</b>"
            ]
          },
          "metadata": {},
          "execution_count": 5
        }
      ]
    },
    {
      "cell_type": "code",
      "source": [
        "models = []\n",
        "while s.check() == sat:\n",
        "    models.append(s.model())\n",
        "    s.add(sum(all) != s.model().evaluate(sum(all)))"
      ],
      "metadata": {
        "id": "MlSKmGNQGyrP"
      },
      "execution_count": 7,
      "outputs": []
    },
    {
      "cell_type": "code",
      "source": [
        "len(models)"
      ],
      "metadata": {
        "colab": {
          "base_uri": "https://localhost:8080/"
        },
        "id": "GGuXg0EHHQXp",
        "outputId": "78c0f2de-0dac-46b9-ba55-fec80f838371"
      },
      "execution_count": 9,
      "outputs": [
        {
          "output_type": "execute_result",
          "data": {
            "text/plain": [
              "2"
            ]
          },
          "metadata": {},
          "execution_count": 9
        }
      ]
    },
    {
      "cell_type": "code",
      "source": [
        "for m in models:\n",
        "    print(m.evaluate(sum(all)))"
      ],
      "metadata": {
        "colab": {
          "base_uri": "https://localhost:8080/"
        },
        "id": "hxoZjvarHQ1Y",
        "outputId": "7168f519-b29b-4eaa-9d5b-33dca35ba70c"
      },
      "execution_count": 10,
      "outputs": [
        {
          "output_type": "stream",
          "name": "stdout",
          "text": [
            "30\n",
            "27\n"
          ]
        }
      ]
    }
  ]
}