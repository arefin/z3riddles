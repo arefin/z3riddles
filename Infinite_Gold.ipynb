{
  "nbformat": 4,
  "nbformat_minor": 0,
  "metadata": {
    "colab": {
      "provenance": [],
      "authorship_tag": "ABX9TyMyyVC0rSdYue02YoUWJWWY",
      "include_colab_link": true
    },
    "kernelspec": {
      "name": "python3",
      "display_name": "Python 3"
    },
    "language_info": {
      "name": "python"
    }
  },
  "cells": [
    {
      "cell_type": "markdown",
      "metadata": {
        "id": "view-in-github",
        "colab_type": "text"
      },
      "source": [
        "<a href=\"https://colab.research.google.com/github/arefin/z3riddles/blob/main/Infinite_Gold.ipynb\" target=\"_parent\"><img src=\"https://colab.research.google.com/assets/colab-badge.svg\" alt=\"Open In Colab\"/></a>"
      ]
    },
    {
      "cell_type": "markdown",
      "source": [
        "Solving [this riddle](https://youtu.be/qgvmJTmJIKs?si=4AIH1wR8ivszR9r9) in Z3."
      ],
      "metadata": {
        "id": "9boDe9wGnbQl"
      }
    },
    {
      "cell_type": "code",
      "execution_count": 1,
      "metadata": {
        "colab": {
          "base_uri": "https://localhost:8080/"
        },
        "id": "ItCcuO2Flq9a",
        "outputId": "1aa1a15f-ce56-4a13-cac5-607f53a84d33"
      },
      "outputs": [
        {
          "output_type": "stream",
          "name": "stdout",
          "text": [
            "Collecting z3-solver\n",
            "  Downloading z3_solver-4.13.0.0-py2.py3-none-manylinux2014_x86_64.whl (57.3 MB)\n",
            "\u001b[2K     \u001b[90m━━━━━━━━━━━━━━━━━━━━━━━━━━━━━━━━━━━━━━━━\u001b[0m \u001b[32m57.3/57.3 MB\u001b[0m \u001b[31m9.4 MB/s\u001b[0m eta \u001b[36m0:00:00\u001b[0m\n",
            "\u001b[?25hInstalling collected packages: z3-solver\n",
            "Successfully installed z3-solver-4.13.0.0\n"
          ]
        }
      ],
      "source": [
        "!pip install z3-solver"
      ]
    },
    {
      "cell_type": "code",
      "source": [
        "from z3 import *"
      ],
      "metadata": {
        "id": "F0scnl5zl0cE"
      },
      "execution_count": 2,
      "outputs": []
    },
    {
      "cell_type": "code",
      "source": [
        "f = Function('f', IntSort(), IntSort())\n",
        "s = Solver()\n",
        "for i in range(1, 20):\n",
        "  s.add(f(i) > i)\n",
        "  if (i > 1):\n",
        "    s.add(f(i) > f(i - 1))\n",
        "  s.add(f(f(i)) == 3 * i)\n",
        "s.check()\n",
        "s.model()"
      ],
      "metadata": {
        "colab": {
          "base_uri": "https://localhost:8080/",
          "height": 52
        },
        "id": "M4CW-gdil2Rg",
        "outputId": "6843693d-653f-4231-9a94-44fbf1178614"
      },
      "execution_count": 13,
      "outputs": [
        {
          "output_type": "execute_result",
          "data": {
            "text/plain": [
              "[f = [2 -> 3,\n",
              "      3 -> 6,\n",
              "      4 -> 7,\n",
              "      5 -> 8,\n",
              "      6 -> 9,\n",
              "      7 -> 12,\n",
              "      8 -> 15,\n",
              "      9 -> 18,\n",
              "      10 -> 19,\n",
              "      11 -> 20,\n",
              "      20 -> 33,\n",
              "      12 -> 21,\n",
              "      21 -> 36,\n",
              "      13 -> 22,\n",
              "      22 -> 39,\n",
              "      14 -> 23,\n",
              "      23 -> 42,\n",
              "      15 -> 24,\n",
              "      24 -> 45,\n",
              "      16 -> 25,\n",
              "      25 -> 48,\n",
              "      17 -> 26,\n",
              "      26 -> 51,\n",
              "      18 -> 27,\n",
              "      27 -> 54,\n",
              "      19 -> 30,\n",
              "      30 -> 57,\n",
              "      else -> 2]]"
            ],
            "text/html": [
              "[f = [2 &rarr; 3,\n",
              "      3 &rarr; 6,\n",
              "      4 &rarr; 7,\n",
              "      5 &rarr; 8,\n",
              "      6 &rarr; 9,\n",
              "      7 &rarr; 12,\n",
              "      8 &rarr; 15,\n",
              "      9 &rarr; 18,\n",
              "      10 &rarr; 19,\n",
              "      11 &rarr; 20,\n",
              "      20 &rarr; 33,\n",
              "      12 &rarr; 21,\n",
              "      21 &rarr; 36,\n",
              "      13 &rarr; 22,\n",
              "      22 &rarr; 39,\n",
              "      14 &rarr; 23,\n",
              "      23 &rarr; 42,\n",
              "      15 &rarr; 24,\n",
              "      24 &rarr; 45,\n",
              "      16 &rarr; 25,\n",
              "      25 &rarr; 48,\n",
              "      17 &rarr; 26,\n",
              "      26 &rarr; 51,\n",
              "      18 &rarr; 27,\n",
              "      27 &rarr; 54,\n",
              "      19 &rarr; 30,\n",
              "      30 &rarr; 57,\n",
              "      else &rarr; 2]]"
            ]
          },
          "metadata": {},
          "execution_count": 13
        }
      ]
    },
    {
      "cell_type": "code",
      "source": [
        "s.model().evaluate(f(13))"
      ],
      "metadata": {
        "colab": {
          "base_uri": "https://localhost:8080/",
          "height": 34
        },
        "id": "RV5feoPkm6kd",
        "outputId": "d64e71c5-ddd3-4dff-ab0f-68ca9ccd3e02"
      },
      "execution_count": 14,
      "outputs": [
        {
          "output_type": "execute_result",
          "data": {
            "text/plain": [
              "22"
            ],
            "text/html": [
              "22"
            ]
          },
          "metadata": {},
          "execution_count": 14
        }
      ]
    }
  ]
}