{
  "nbformat": 4,
  "nbformat_minor": 0,
  "metadata": {
    "colab": {
      "provenance": [],
      "authorship_tag": "ABX9TyNZvgeV9TTvTMQkjRx2CD8w",
      "include_colab_link": true
    },
    "kernelspec": {
      "name": "python3",
      "display_name": "Python 3"
    },
    "language_info": {
      "name": "python"
    }
  },
  "cells": [
    {
      "cell_type": "markdown",
      "metadata": {
        "id": "view-in-github",
        "colab_type": "text"
      },
      "source": [
        "<a href=\"https://colab.research.google.com/github/arefin/z3riddles/blob/main/Einstein's_Riddle_(Solution).ipynb\" target=\"_parent\"><img src=\"https://colab.research.google.com/assets/colab-badge.svg\" alt=\"Open In Colab\"/></a>"
      ]
    },
    {
      "cell_type": "markdown",
      "source": [
        "Code to solve [this riddle](https://youtu.be/1rDVz_Fb6HQ?si=t9HsNU7qiRUYG3Xb) from the TED-Ed YouTube channel.\n",
        "\n",
        "The world's rarest fish has been stolen from the city aquarium. The police have followed the scent to a street with five identical looking houses. But they can't search all the houses at once, and if they pick the wrong one, the theif will know they're on his trail. It's up to you, the city's best detective, to solve the case. When you arrive on the scene, the police tell you what they know.\n",
        "\n",
        "1. Each house's owner is of a different nationality, drinks a different beverage, and smokes a different type of cigar.\n",
        "2. Each house's interior walls are painted a different color.\n",
        "3. Each house contains a different animal, one of which is the fish.\n",
        "\n",
        "* **Nationalities**: German, Dane, Norwegian, Brit, Swede.\n",
        "* **Beverages**: Water, Tea, Milk, Coffee, Root Beer.\n",
        "* **Cigars**: Blends, Pall Mall, Prince, Blue Master, Dunhill.\n",
        "* **Colors**: Blue, Green, Yellow, Red, White.\n",
        "* **Animals**: Horse, Dog, Cat, Bird, Fish.\n",
        "\n",
        "After a few hours of expert sleuthing, you gather some clues.\n",
        "\n",
        "## Clues\n",
        "1. THE BRIT LIVES IN THE HOUSE WITH RED WALLS.\n",
        "2. THE SWEDE HAS A DOG.\n",
        "3. THE DANE DRINKS TEA.\n",
        "4. THE HOUSE WITH GREEN WALLS IS DIRECTLY TO THE LEFT OF THE HOUSE WITH WHITE WALLS.\n",
        "5. THE OWNER OF THE HOUSE WITH GREEN WALLS DRINKS COFFEE.\n",
        "6. THE PERSON WHO SMOKES PALL MALL CIGARS OWNS A BIRD.\n",
        "7. THE OWNER OF THE HOUSE WITH YELLOW WALLS SMOKES DUNHILL CIGARS.\n",
        "8. THE MAN LIVING IN THE CENTER HOUSE DRINKS MILK.\n",
        "9. THE NORWEGIAN LIVES IN THE FIRST HOUSE.\n",
        "10. THE MAN WHO SMOKES BLENDS LIVES NEXT TO THE CAT OWNER.\n",
        "11. THE HORSE'S OWNER LIVES NEXT TO THE MAN WHO SMOKES DUNHILL.\n",
        "12. THE MAN WHO SMOKES BLUE MASTER DRINKS ROOT BEER.\n",
        "13. THE GERMAN SMOKES PRINCE.\n",
        "14. THE NORWEGIAN LIVES NEXT TO THE HOUSE WITH BLUE WALLS.\n",
        "15. THE MAN WHO SMOKES BLENDS HAS A NEXT-DOOR NEIGHBOR WHO DRINKS WATER."
      ],
      "metadata": {
        "id": "cnnqDQu9zpZZ"
      }
    },
    {
      "cell_type": "code",
      "execution_count": null,
      "metadata": {
        "colab": {
          "base_uri": "https://localhost:8080/"
        },
        "id": "8NNm37RnzVC1",
        "outputId": "348a0b8c-21c6-41f8-acdb-5d695a6b9823"
      },
      "outputs": [
        {
          "output_type": "stream",
          "name": "stdout",
          "text": [
            "Collecting z3-solver\n",
            "  Downloading z3_solver-4.13.0.0-py2.py3-none-manylinux2014_x86_64.whl (57.3 MB)\n",
            "\u001b[2K     \u001b[90m━━━━━━━━━━━━━━━━━━━━━━━━━━━━━━━━━━━━━━━━\u001b[0m \u001b[32m57.3/57.3 MB\u001b[0m \u001b[31m12.3 MB/s\u001b[0m eta \u001b[36m0:00:00\u001b[0m\n",
            "\u001b[?25hInstalling collected packages: z3-solver\n",
            "Successfully installed z3-solver-4.13.0.0\n"
          ]
        }
      ],
      "source": [
        "!pip install z3-solver"
      ]
    },
    {
      "cell_type": "code",
      "source": [
        "from z3 import *"
      ],
      "metadata": {
        "id": "ZsP4lyzLz7Nr"
      },
      "execution_count": null,
      "outputs": []
    },
    {
      "cell_type": "code",
      "source": [
        "german = Int('german')\n",
        "dane = Int('dane')\n",
        "norwegian = Int('norwegian')\n",
        "brit = Int('brit')\n",
        "swede = Int ('swede')\n",
        "nationalities = [german, dane, norwegian, brit, swede]\n",
        "\n",
        "water = Int('water')\n",
        "tea = Int('tea')\n",
        "milk = Int('milk')\n",
        "coffee = Int('coffee')\n",
        "root_beer = Int('root_beer')\n",
        "beverages = [water, tea, milk, coffee, root_beer]\n",
        "\n",
        "blends = Int('blends')\n",
        "pall_mall = Int('pall_mall')\n",
        "prince = Int('prince')\n",
        "blue_master = Int('blue_master')\n",
        "dunhill = Int('dunhill')\n",
        "cigars = [blends, pall_mall, prince, blue_master, dunhill]\n",
        "\n",
        "blue = Int('blue')\n",
        "green = Int('green')\n",
        "yellow = Int('yellow')\n",
        "red = Int('red')\n",
        "white = Int('white')\n",
        "colors = [blue, green, yellow, red, white]\n",
        "\n",
        "horse = Int('horse')\n",
        "dog = Int('dog')\n",
        "cat = Int('cat')\n",
        "bird = Int('bird')\n",
        "fish = Int('fish')\n",
        "animals = [horse, dog, cat, bird, fish]\n",
        "\n",
        "groups = [nationalities, beverages, cigars, colors, animals]"
      ],
      "metadata": {
        "id": "DfmxonLf24ND"
      },
      "execution_count": null,
      "outputs": []
    },
    {
      "cell_type": "code",
      "source": [
        "bounds = [And(1 <= var, var <= 5) for group in groups for var in group]\n",
        "distinct_groups = [Distinct(group) for group in groups]\n",
        "clues = [\n",
        "  # 1. The Brit lives in the house with red walls.\n",
        "  brit == red,\n",
        "  # 2. The Swede has a dog.\n",
        "  swede == dog,\n",
        "  # 3. The Dane drinks tea.\n",
        "  dane == tea,\n",
        "  # 4. The house with green walls is directly to the left of the house with white walls.\n",
        "  green == white - 1,\n",
        "  # 5. The owner of the house with green walls drinks coffee.\n",
        "  green == coffee,\n",
        "  # 6. The person who smokes Pall Mall cigars owns a bird.\n",
        "  pall_mall == bird,\n",
        "  # 7. The owner of the house with yellow walls smokes Dunhill cigars.\n",
        "  yellow == dunhill,\n",
        "  # 8. The man living in the center house drinks milk.\n",
        "  milk == 3,\n",
        "  # 9. The Norwegian lives in the first house.\n",
        "  norwegian == 1,\n",
        "  # 10. The man who smokes Blends lives next to the cat owner.\n",
        "  Or(cat == blends + 1, cat == blends - 1),\n",
        "  # 11. The horse's owner lives next to the man who smokes Dunhill.\n",
        "  Or(horse == dunhill + 1, horse == dunhill - 1),\n",
        "  # 12. The man who smokes Blue Master drinks root beer.\n",
        "  blue_master == root_beer,\n",
        "  # 13. The German smokes Prince.\n",
        "  german == prince,\n",
        "  # 14. The Norwegian lives next to the house with blue walls.\n",
        "  Or(norwegian == blue + 1, norwegian == blue - 1),\n",
        "  # 15. The man who smokes Blends has a next-door neighbor who drinks water.\n",
        "  Or(blends == water + 1, blue == water - 1),\n",
        "]"
      ],
      "metadata": {
        "id": "7WKdzWINDMTZ"
      },
      "execution_count": null,
      "outputs": []
    },
    {
      "cell_type": "code",
      "source": [
        "solve(bounds + distinct_groups + clues)"
      ],
      "metadata": {
        "colab": {
          "base_uri": "https://localhost:8080/"
        },
        "id": "1AGM6g1SJKhm",
        "outputId": "a4c00294-3faf-4c09-e858-6fdbfdec32d9"
      },
      "execution_count": null,
      "outputs": [
        {
          "output_type": "stream",
          "name": "stdout",
          "text": [
            "[dunhill = 1,\n",
            " bird = 3,\n",
            " tea = 2,\n",
            " blends = 2,\n",
            " dog = 5,\n",
            " red = 3,\n",
            " cat = 1,\n",
            " blue = 2,\n",
            " water = 1,\n",
            " coffee = 4,\n",
            " horse = 2,\n",
            " root_beer = 5,\n",
            " prince = 4,\n",
            " fish = 4,\n",
            " brit = 3,\n",
            " white = 5,\n",
            " pall_mall = 3,\n",
            " swede = 5,\n",
            " blue_master = 5,\n",
            " green = 4,\n",
            " german = 4,\n",
            " dane = 2,\n",
            " yellow = 1,\n",
            " milk = 3,\n",
            " norwegian = 1]\n"
          ]
        }
      ]
    }
  ]
}